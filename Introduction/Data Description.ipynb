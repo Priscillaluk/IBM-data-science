{
    "nbformat_minor": 1, 
    "cells": [
        {
            "source": "## Data Description", 
            "cell_type": "markdown", 
            "metadata": {
                "collapsed": true
            }
        }, 
        {
            "source": "### To consider the problem we can list the datas as below:\n\nI found the Second-level Administrative Divisions of the USA from Spatial Data Repository of NYU.<dd/>\nThe .json file has coordinates of the all city of USA. <dd/>\nI cleaned the data and reduced it to city of NYC where I used it to create choropleth map of Housing Sales Price Index of NYC.\nI used Forsquare API to get the most common venues of given Borough of NYC.\nThere are not too many public datas related to demographic and social parameters for the city of New York. <dd/>Therefore you must set-up your own data tables in most cases. In this case, I collected latest per square meter Housing Sales Price (HSP) Averages for each Borough of NYC from housing retail web page.   ", 
            "cell_type": "markdown", 
            "metadata": {}
        }, 
        {
            "execution_count": null, 
            "cell_type": "code", 
            "metadata": {}, 
            "outputs": [], 
            "source": ""
        }
    ], 
    "metadata": {
        "kernelspec": {
            "display_name": "Python 3.5", 
            "name": "python3", 
            "language": "python"
        }, 
        "language_info": {
            "mimetype": "text/x-python", 
            "nbconvert_exporter": "python", 
            "version": "3.5.5", 
            "name": "python", 
            "file_extension": ".py", 
            "pygments_lexer": "ipython3", 
            "codemirror_mode": {
                "version": 3, 
                "name": "ipython"
            }
        }
    }, 
    "nbformat": 4
}