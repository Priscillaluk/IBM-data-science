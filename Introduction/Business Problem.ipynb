{
    "nbformat_minor": 1, 
    "cells": [
        {
            "source": "# Housing Sales Prices & Venues Data Analysis of New York City", 
            "cell_type": "markdown", 
            "metadata": {
                "collapsed": true
            }
        }, 
        {
            "source": "## Introduction(business problem)", 
            "cell_type": "markdown", 
            "metadata": {}
        }, 
        {
            "source": "New York City is the most populous city in the United States,where nearly 9 millions people live,distributed over a land area of about 302.6 square miles (784 km2). As I really look forward to visting, I decided to use New York City in my project. New York City consists of five boroughs, each of which is a separate county of the State of New York.\n\nAs you can see from the figures, Istanbul is a city with a high population and population density. Being such a crowded city leads the owners of shops and social sharing places in the city where the population is dense. When we think of it by the investor, we expect from them to prefer the districts where there is a lower real estate cost and the type of business they want to install is less intense. If we think of the city residents, they may want to choose the regions where real estate values are lower, too. At the same time, they may want to choose the district according to the social places density. However, it is difficult to obtain information that will guide investors in this direction, nowadays.\n\nWhen we consider all these problems, we can create a map and information chart where the real estate index is placed on Istanbul and each district is clustered according to the venue density.\n", 
            "cell_type": "markdown", 
            "metadata": {}
        }, 
        {
            "source": "## Data Description", 
            "cell_type": "markdown", 
            "metadata": {}
        }, 
        {
            "source": "### To consider the problem we can list the datas as below:\n\nI found the Second-level Administrative Divisions of the USA from Spatial Data Repository of NYU.<dd/>\nThe .json file has coordinates of the all city of USA. <dd/>\nI cleaned the data and reduced it to city of NYC where I used it to create choropleth map of Housing Sales Price Index of NYC.\nI used Forsquare API to get the most common venues of given Borough of NYC.\nThere are not too many public datas related to demographic and social parameters for the city of New York. <dd/>Therefore you must set-up your own data tables in most cases. In this case, I collected latest per square meter Housing Sales Price (HSP) Averages for each Borough of NYC from housing retail web page.  ", 
            "cell_type": "markdown", 
            "metadata": {}
        }, 
        {
            "source": "", 
            "cell_type": "code", 
            "metadata": {}, 
            "outputs": [], 
            "execution_count": null
        }
    ], 
    "metadata": {
        "kernelspec": {
            "display_name": "Python 3.5", 
            "name": "python3", 
            "language": "python"
        }, 
        "language_info": {
            "mimetype": "text/x-python", 
            "nbconvert_exporter": "python", 
            "version": "3.5.5", 
            "name": "python", 
            "file_extension": ".py", 
            "pygments_lexer": "ipython3", 
            "codemirror_mode": {
                "version": 3, 
                "name": "ipython"
            }
        }
    }, 
    "nbformat": 4
}